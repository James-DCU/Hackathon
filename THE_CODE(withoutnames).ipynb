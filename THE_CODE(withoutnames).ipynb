{
 "cells": [
  {
   "cell_type": "code",
   "execution_count": 3,
   "metadata": {},
   "outputs": [],
   "source": [
    "import sqlite3 as sql\n",
    "import pandas as pd\n",
    "import matplotlib.pyplot as plt\n",
    "import seaborn as sns\n",
    "import ipywidgets as ipyw\n",
    "import pandas as pd\n",
    "import country_converter as coco"
   ]
  },
  {
   "cell_type": "code",
   "execution_count": 5,
   "metadata": {
    "id": "Y3v0pwatcDvZ"
   },
   "outputs": [],
   "source": [
    "def read_database(year, state=\"\", age=999, female=999, urban=999, edu=999):\n",
    "    # 999 is a placeholder value meaning \"select all\" for variables.\n",
    "    # age = 999 means no filtering is applied, and data for all ages is selected.\n",
    "\n",
    "    def execute_query(table_name, condition):\n",
    "        # defines a SQL query to fetch data from the specified table.\n",
    "        # the 'median' is normalized by dividing it by the average median value from the same table.\n",
    "        query = f\"SELECT iso3, median / (SELECT AVG(median) FROM {table_name}) AS median FROM {table_name} WHERE {condition}\"\n",
    "\n",
    "        # executes the SQL query and return the result as a pandas DataFrame\n",
    "        return pd.read_sql_query(query, con)\n",
    "\n",
    "    # opens the database connection using a context manager\n",
    "    with sql.connect('cleaned_data.db') as con:\n",
    "        # when no specific state is selected, define the condition to include all states\n",
    "        if state == \"\":\n",
    "            # crrates a condition string to filter the data by age, gender, urban/rural, education, and adjusted year\n",
    "            condition = f\"age = {age} AND female = {female} AND urban = {urban} AND edu = {edu} AND year = {year - year % 5}\"\n",
    "            # query incidence rates for the given year\n",
    "            query_incidence = f\"SELECT iso3, [{year}] AS incidence_rate FROM Incidence_rate\"\n",
    "        else:\n",
    "            # when a specific state is selected, add the state filter to the condition\n",
    "            condition = f\"age = {age} AND female = {female} AND urban = {urban} AND edu = {edu} AND year = {year - year % 5} AND iso3='{state}'\"\n",
    "            # query incidence rates for the given year and state\n",
    "            query_incidence = f\"SELECT iso3, [{year}] AS incidence_rate FROM Incidence_rate WHERE iso3='{state}'\"\n",
    "\n",
    "        # fetchs normalized data for sugar, salt, and saturated fat using the execute_query function\n",
    "        df_sugar = execute_query(\"Sugar\", condition)  # fetch sugar consumption data\n",
    "        df_salt = execute_query(\"Salt\", condition)  # fetch salt consumption data\n",
    "        df_saturated_fat = execute_query(\"Saturated_fat\", condition)  # fetch saturated fat data\n",
    "        df_incidence_rate = pd.read_sql_query(query_incidence, con)  # fetch incidence rate data\n",
    "\n",
    "    # returns the resulting dataFrames for sugar, salt, saturated fat, and incidence rate\n",
    "    return df_sugar, df_salt, df_saturated_fat, df_incidence_rate\n"
   ]
  },
  {
   "cell_type": "code",
   "execution_count": 7,
   "metadata": {
    "id": "iM2BZ484_OVF"
   },
   "outputs": [],
   "source": [
    "def load_data(year, state=\"\"):\n",
    "    # call the read_database function to fetch data for sugar, salt, saturated fat, and incidence rate\n",
    "    sugar, salt, fat, incidence_rate = read_database(year, state)\n",
    "\n",
    "    # add a new column 'type' to indicate the type of data for each dataset\n",
    "    sugar['type'] = 'sugar'  # marks the data as sugar-related\n",
    "    salt['type'] = 'salt'  # marks the data as salt-related\n",
    "    fat['type'] = 'saturated_fat'  # marks the data as saturated fat-related\n",
    "\n",
    "    # merges each dataset with incidence_rate on the 'iso3' column (country code)\n",
    "    sugar = pd.merge(sugar, incidence_rate, on='iso3')  # combines sugar data with incidence rates\n",
    "    salt = pd.merge(salt, incidence_rate, on='iso3')  # combines salt data with incidence rates\n",
    "    fat = pd.merge(fat, incidence_rate, on='iso3')  # combines saturated fat data with incidence rates\n",
    "\n",
    "    # concatenate all the datasets (sugar, salt, and fat) into one DataFrame\n",
    "    data = pd.concat([sugar, salt, fat])  # combines all datasets vertically\n",
    "\n",
    "        \n",
    "\n",
    "    # returns the final concatenated DataFrame\n",
    "    return data\n"
   ]
  },
  {
   "cell_type": "code",
   "execution_count": 11,
   "metadata": {},
   "outputs": [],
   "source": [
    "state = load_data(2004)\n",
    "mask = state['type'] == 'sugar'\n",
    "state = pd.DataFrame(state[mask])\n",
    "\n",
    "#f= pd.Series(state['iso3'],name = 'country')\n",
    "#cc = coco.CountryConverter()\n",
    "#country_names = cc.pandas_convert(series=f, to='name_short')  \n",
    "#country_names = pd.DataFrame(country_names)\n",
    "\n",
    "country_names = state['iso3']\n",
    "\n",
    "\n",
    "country =  ['']\n",
    "for i in range(len(country_names)):\n",
    "    country = country +[(state['iso3'])[i]]\n"
   ]
  },
  {
   "cell_type": "code",
   "execution_count": 13,
   "metadata": {
    "id": "cbn-Vzgfy8Mz"
   },
   "outputs": [
    {
     "data": {
      "application/vnd.jupyter.widget-view+json": {
       "model_id": "352584e00f5d46a5aae60c45fec04a23",
       "version_major": 2,
       "version_minor": 0
      },
      "text/plain": [
       "interactive(children=(IntSlider(value=2002, description='year', max=2015, min=1990), Dropdown(description='sta…"
      ]
     },
     "metadata": {},
     "output_type": "display_data"
    }
   ],
   "source": [
    "from ipywidgets import interact, FloatSlider ,Dropdown\n",
    "from IPython.display import display, clear_output\n",
    "\n",
    "sns.set_theme(style=\"white\")\n",
    "\n",
    "def plot_interactive(year, state=country):\n",
    "\n",
    "  clear_output(wait=True)\n",
    "\n",
    "  #plt.figure(figsize=(8, 5))\n",
    "  if state == \"\":\n",
    "\n",
    "    data = load_data(year, state =\"\" )\n",
    "    fig = sns.relplot(x=\"median\", y=\"incidence_rate\", hue=\"type\",\n",
    "              sizes=(40, 400), alpha=.5, palette=\"muted\",\n",
    "              height=6, data=data)\n",
    "    plt.xlabel(\"Median of Nutrition Consumption (divided by the global average)\")\n",
    "    plt.ylabel(\"Incidence Rate of Cardiovascular diseases\")\n",
    "    #plt.show()\n",
    "    \n",
    "  else:\n",
    "\n",
    "    all_data = pd.DataFrame()\n",
    "\n",
    "    for i in range(1990, 2015):\n",
    "        state =  coco.convert(names=state, to='iso3')\n",
    "\n",
    "        data = load_data(i,state)\n",
    "        data['year'] = i\n",
    "        all_data = pd.concat([all_data, data])\n",
    "\n",
    "    fig = sns.lineplot(x=\"year\", y=\"median\",\n",
    "                hue=\"type\",\n",
    "                data=all_data)\n",
    "    \n",
    "\n",
    "    plt.xlabel(\"years\")\n",
    "    plt.ylabel(\"Median of Nutrition Consumption\")\n",
    "    #plt.show()\n",
    "interact(plot_interactive, year=(1990, 2015, 1))\n",
    "interact.toolbar_visible = False"
   ]
  }
 ],
 "metadata": {
  "colab": {
   "provenance": []
  },
  "kernelspec": {
   "display_name": "Python 3 (ipykernel)",
   "language": "python",
   "name": "python3"
  },
  "language_info": {
   "codemirror_mode": {
    "name": "ipython",
    "version": 3
   },
   "file_extension": ".py",
   "mimetype": "text/x-python",
   "name": "python",
   "nbconvert_exporter": "python",
   "pygments_lexer": "ipython3",
   "version": "3.12.3"
  },
  "varInspector": {
   "cols": {
    "lenName": 16,
    "lenType": 16,
    "lenVar": 40
   },
   "kernels_config": {
    "python": {
     "delete_cmd_postfix": "",
     "delete_cmd_prefix": "del ",
     "library": "var_list.py",
     "varRefreshCmd": "print(var_dic_list())"
    },
    "r": {
     "delete_cmd_postfix": ") ",
     "delete_cmd_prefix": "rm(",
     "library": "var_list.r",
     "varRefreshCmd": "cat(var_dic_list()) "
    }
   },
   "types_to_exclude": [
    "module",
    "function",
    "builtin_function_or_method",
    "instance",
    "_Feature"
   ],
   "window_display": false
  },
  "widgets": {
   "application/vnd.jupyter.widget-state+json": {
    "0951b9dcd19a4ac0b7f2ec5908a3de90": {
     "model_module": "@jupyter-widgets/base",
     "model_module_version": "1.2.0",
     "model_name": "LayoutModel",
     "state": {
      "_model_module": "@jupyter-widgets/base",
      "_model_module_version": "1.2.0",
      "_model_name": "LayoutModel",
      "_view_count": null,
      "_view_module": "@jupyter-widgets/base",
      "_view_module_version": "1.2.0",
      "_view_name": "LayoutView",
      "align_content": null,
      "align_items": null,
      "align_self": null,
      "border": null,
      "bottom": null,
      "display": null,
      "flex": null,
      "flex_flow": null,
      "grid_area": null,
      "grid_auto_columns": null,
      "grid_auto_flow": null,
      "grid_auto_rows": null,
      "grid_column": null,
      "grid_gap": null,
      "grid_row": null,
      "grid_template_areas": null,
      "grid_template_columns": null,
      "grid_template_rows": null,
      "height": null,
      "justify_content": null,
      "justify_items": null,
      "left": null,
      "margin": null,
      "max_height": null,
      "max_width": null,
      "min_height": null,
      "min_width": null,
      "object_fit": null,
      "object_position": null,
      "order": null,
      "overflow": null,
      "overflow_x": null,
      "overflow_y": null,
      "padding": null,
      "right": null,
      "top": null,
      "visibility": null,
      "width": null
     }
    },
    "13baf3cd59754abdb7f0f52ce62ea3e6": {
     "model_module": "@jupyter-widgets/controls",
     "model_module_version": "1.5.0",
     "model_name": "SliderStyleModel",
     "state": {
      "_model_module": "@jupyter-widgets/controls",
      "_model_module_version": "1.5.0",
      "_model_name": "SliderStyleModel",
      "_view_count": null,
      "_view_module": "@jupyter-widgets/base",
      "_view_module_version": "1.2.0",
      "_view_name": "StyleView",
      "description_width": "",
      "handle_color": null
     }
    },
    "1ab9e16fe5e64e9c812f8f58de7f0d8b": {
     "model_module": "@jupyter-widgets/controls",
     "model_module_version": "1.5.0",
     "model_name": "IntSliderModel",
     "state": {
      "_dom_classes": [],
      "_model_module": "@jupyter-widgets/controls",
      "_model_module_version": "1.5.0",
      "_model_name": "IntSliderModel",
      "_view_count": null,
      "_view_module": "@jupyter-widgets/controls",
      "_view_module_version": "1.5.0",
      "_view_name": "IntSliderView",
      "continuous_update": true,
      "description": "year",
      "description_tooltip": null,
      "disabled": false,
      "layout": "IPY_MODEL_e52651ad50324fd4b7fdd314a2373f42",
      "max": 2015,
      "min": 1990,
      "orientation": "horizontal",
      "readout": true,
      "readout_format": "d",
      "step": 1,
      "style": "IPY_MODEL_13baf3cd59754abdb7f0f52ce62ea3e6",
      "value": 2002
     }
    },
    "45bcc6a15f6d4b15b3503be7780d7d0c": {
     "model_module": "@jupyter-widgets/controls",
     "model_module_version": "1.5.0",
     "model_name": "VBoxModel",
     "state": {
      "_dom_classes": [
       "widget-interact"
      ],
      "_model_module": "@jupyter-widgets/controls",
      "_model_module_version": "1.5.0",
      "_model_name": "VBoxModel",
      "_view_count": null,
      "_view_module": "@jupyter-widgets/controls",
      "_view_module_version": "1.5.0",
      "_view_name": "VBoxView",
      "box_style": "",
      "children": [
       "IPY_MODEL_1ab9e16fe5e64e9c812f8f58de7f0d8b",
       "IPY_MODEL_7149f8556e32421c88aa9160b613f220",
       "IPY_MODEL_e31409a6e71542d09706f79a39c0ad1a"
      ],
      "layout": "IPY_MODEL_e23827f8634a41c09bb6222c8d09f130"
     }
    },
    "7149f8556e32421c88aa9160b613f220": {
     "model_module": "@jupyter-widgets/controls",
     "model_module_version": "1.5.0",
     "model_name": "TextModel",
     "state": {
      "_dom_classes": [],
      "_model_module": "@jupyter-widgets/controls",
      "_model_module_version": "1.5.0",
      "_model_name": "TextModel",
      "_view_count": null,
      "_view_module": "@jupyter-widgets/controls",
      "_view_module_version": "1.5.0",
      "_view_name": "TextView",
      "continuous_update": true,
      "description": "state",
      "description_tooltip": null,
      "disabled": false,
      "layout": "IPY_MODEL_0951b9dcd19a4ac0b7f2ec5908a3de90",
      "placeholder": "​",
      "style": "IPY_MODEL_7f7a17ca32944c7a9eb30c3c8c5c7a45",
      "value": "IRL"
     }
    },
    "7f7a17ca32944c7a9eb30c3c8c5c7a45": {
     "model_module": "@jupyter-widgets/controls",
     "model_module_version": "1.5.0",
     "model_name": "DescriptionStyleModel",
     "state": {
      "_model_module": "@jupyter-widgets/controls",
      "_model_module_version": "1.5.0",
      "_model_name": "DescriptionStyleModel",
      "_view_count": null,
      "_view_module": "@jupyter-widgets/base",
      "_view_module_version": "1.2.0",
      "_view_name": "StyleView",
      "description_width": ""
     }
    },
    "c269db28582644688c94b3788d11bb6a": {
     "model_module": "@jupyter-widgets/base",
     "model_module_version": "1.2.0",
     "model_name": "LayoutModel",
     "state": {
      "_model_module": "@jupyter-widgets/base",
      "_model_module_version": "1.2.0",
      "_model_name": "LayoutModel",
      "_view_count": null,
      "_view_module": "@jupyter-widgets/base",
      "_view_module_version": "1.2.0",
      "_view_name": "LayoutView",
      "align_content": null,
      "align_items": null,
      "align_self": null,
      "border": null,
      "bottom": null,
      "display": null,
      "flex": null,
      "flex_flow": null,
      "grid_area": null,
      "grid_auto_columns": null,
      "grid_auto_flow": null,
      "grid_auto_rows": null,
      "grid_column": null,
      "grid_gap": null,
      "grid_row": null,
      "grid_template_areas": null,
      "grid_template_columns": null,
      "grid_template_rows": null,
      "height": null,
      "justify_content": null,
      "justify_items": null,
      "left": null,
      "margin": null,
      "max_height": null,
      "max_width": null,
      "min_height": null,
      "min_width": null,
      "object_fit": null,
      "object_position": null,
      "order": null,
      "overflow": null,
      "overflow_x": null,
      "overflow_y": null,
      "padding": null,
      "right": null,
      "top": null,
      "visibility": null,
      "width": null
     }
    },
    "e23827f8634a41c09bb6222c8d09f130": {
     "model_module": "@jupyter-widgets/base",
     "model_module_version": "1.2.0",
     "model_name": "LayoutModel",
     "state": {
      "_model_module": "@jupyter-widgets/base",
      "_model_module_version": "1.2.0",
      "_model_name": "LayoutModel",
      "_view_count": null,
      "_view_module": "@jupyter-widgets/base",
      "_view_module_version": "1.2.0",
      "_view_name": "LayoutView",
      "align_content": null,
      "align_items": null,
      "align_self": null,
      "border": null,
      "bottom": null,
      "display": null,
      "flex": null,
      "flex_flow": null,
      "grid_area": null,
      "grid_auto_columns": null,
      "grid_auto_flow": null,
      "grid_auto_rows": null,
      "grid_column": null,
      "grid_gap": null,
      "grid_row": null,
      "grid_template_areas": null,
      "grid_template_columns": null,
      "grid_template_rows": null,
      "height": null,
      "justify_content": null,
      "justify_items": null,
      "left": null,
      "margin": null,
      "max_height": null,
      "max_width": null,
      "min_height": null,
      "min_width": null,
      "object_fit": null,
      "object_position": null,
      "order": null,
      "overflow": null,
      "overflow_x": null,
      "overflow_y": null,
      "padding": null,
      "right": null,
      "top": null,
      "visibility": null,
      "width": null
     }
    },
    "e31409a6e71542d09706f79a39c0ad1a": {
     "model_module": "@jupyter-widgets/output",
     "model_module_version": "1.0.0",
     "model_name": "OutputModel",
     "state": {
      "_dom_classes": [],
      "_model_module": "@jupyter-widgets/output",
      "_model_module_version": "1.0.0",
      "_model_name": "OutputModel",
      "_view_count": null,
      "_view_module": "@jupyter-widgets/output",
      "_view_module_version": "1.0.0",
      "_view_name": "OutputView",
      "layout": "IPY_MODEL_c269db28582644688c94b3788d11bb6a",
      "msg_id": "",
      "outputs": [
       {
        "data": {
         "image/png": "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\n",
         "text/plain": "<Figure size 800x500 with 1 Axes>"
        },
        "metadata": {},
        "output_type": "display_data"
       }
      ]
     }
    },
    "e52651ad50324fd4b7fdd314a2373f42": {
     "model_module": "@jupyter-widgets/base",
     "model_module_version": "1.2.0",
     "model_name": "LayoutModel",
     "state": {
      "_model_module": "@jupyter-widgets/base",
      "_model_module_version": "1.2.0",
      "_model_name": "LayoutModel",
      "_view_count": null,
      "_view_module": "@jupyter-widgets/base",
      "_view_module_version": "1.2.0",
      "_view_name": "LayoutView",
      "align_content": null,
      "align_items": null,
      "align_self": null,
      "border": null,
      "bottom": null,
      "display": null,
      "flex": null,
      "flex_flow": null,
      "grid_area": null,
      "grid_auto_columns": null,
      "grid_auto_flow": null,
      "grid_auto_rows": null,
      "grid_column": null,
      "grid_gap": null,
      "grid_row": null,
      "grid_template_areas": null,
      "grid_template_columns": null,
      "grid_template_rows": null,
      "height": null,
      "justify_content": null,
      "justify_items": null,
      "left": null,
      "margin": null,
      "max_height": null,
      "max_width": null,
      "min_height": null,
      "min_width": null,
      "object_fit": null,
      "object_position": null,
      "order": null,
      "overflow": null,
      "overflow_x": null,
      "overflow_y": null,
      "padding": null,
      "right": null,
      "top": null,
      "visibility": null,
      "width": null
     }
    }
   }
  }
 },
 "nbformat": 4,
 "nbformat_minor": 4
}
